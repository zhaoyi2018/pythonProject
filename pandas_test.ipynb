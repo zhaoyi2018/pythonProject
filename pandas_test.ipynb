{
 "cells": [
  {
   "cell_type": "code",
   "execution_count": 1,
   "outputs": [],
   "source": [
    "import pandas as pd\n",
    "import numpy as np"
   ],
   "metadata": {
    "collapsed": false,
    "pycharm": {
     "name": "#%%\n"
    }
   }
  },
  {
   "cell_type": "code",
   "execution_count": 2,
   "outputs": [],
   "source": [
    "a = np.arange(0, 16, 1.0).reshape((4, 4))\n",
    "a[:, 0] = np.nan\n",
    "a[0, 1] = np.nan"
   ],
   "metadata": {
    "collapsed": false,
    "pycharm": {
     "name": "#%%\n"
    }
   }
  },
  {
   "cell_type": "code",
   "execution_count": 3,
   "outputs": [
    {
     "data": {
      "text/plain": "array([[nan, nan,  2.,  3.],\n       [nan,  5.,  6.,  7.],\n       [nan,  9., 10., 11.],\n       [nan, 13., 14., 15.]])"
     },
     "execution_count": 3,
     "metadata": {},
     "output_type": "execute_result"
    }
   ],
   "source": [
    "a"
   ],
   "metadata": {
    "collapsed": false,
    "pycharm": {
     "name": "#%%\n"
    }
   }
  },
  {
   "cell_type": "code",
   "execution_count": 5,
   "outputs": [
    {
     "data": {
      "text/plain": "    0     1     2     3\n0 NaN   NaN   2.0   3.0\n1 NaN   5.0   6.0   7.0\n2 NaN   9.0  10.0  11.0\n3 NaN  13.0  14.0  15.0",
      "text/html": "<div>\n<style scoped>\n    .dataframe tbody tr th:only-of-type {\n        vertical-align: middle;\n    }\n\n    .dataframe tbody tr th {\n        vertical-align: top;\n    }\n\n    .dataframe thead th {\n        text-align: right;\n    }\n</style>\n<table border=\"1\" class=\"dataframe\">\n  <thead>\n    <tr style=\"text-align: right;\">\n      <th></th>\n      <th>0</th>\n      <th>1</th>\n      <th>2</th>\n      <th>3</th>\n    </tr>\n  </thead>\n  <tbody>\n    <tr>\n      <th>0</th>\n      <td>NaN</td>\n      <td>NaN</td>\n      <td>2.0</td>\n      <td>3.0</td>\n    </tr>\n    <tr>\n      <th>1</th>\n      <td>NaN</td>\n      <td>5.0</td>\n      <td>6.0</td>\n      <td>7.0</td>\n    </tr>\n    <tr>\n      <th>2</th>\n      <td>NaN</td>\n      <td>9.0</td>\n      <td>10.0</td>\n      <td>11.0</td>\n    </tr>\n    <tr>\n      <th>3</th>\n      <td>NaN</td>\n      <td>13.0</td>\n      <td>14.0</td>\n      <td>15.0</td>\n    </tr>\n  </tbody>\n</table>\n</div>"
     },
     "execution_count": 5,
     "metadata": {},
     "output_type": "execute_result"
    }
   ],
   "source": [
    "df = pd.DataFrame(a)\n",
    "df"
   ],
   "metadata": {
    "collapsed": false,
    "pycharm": {
     "name": "#%%\n"
    }
   }
  },
  {
   "cell_type": "code",
   "execution_count": 6,
   "outputs": [
    {
     "data": {
      "text/plain": "     0     1     2     3\n0  0.0   0.0   2.0   3.0\n1  0.0   5.0   6.0   7.0\n2  0.0   9.0  10.0  11.0\n3  0.0  13.0  14.0  15.0",
      "text/html": "<div>\n<style scoped>\n    .dataframe tbody tr th:only-of-type {\n        vertical-align: middle;\n    }\n\n    .dataframe tbody tr th {\n        vertical-align: top;\n    }\n\n    .dataframe thead th {\n        text-align: right;\n    }\n</style>\n<table border=\"1\" class=\"dataframe\">\n  <thead>\n    <tr style=\"text-align: right;\">\n      <th></th>\n      <th>0</th>\n      <th>1</th>\n      <th>2</th>\n      <th>3</th>\n    </tr>\n  </thead>\n  <tbody>\n    <tr>\n      <th>0</th>\n      <td>0.0</td>\n      <td>0.0</td>\n      <td>2.0</td>\n      <td>3.0</td>\n    </tr>\n    <tr>\n      <th>1</th>\n      <td>0.0</td>\n      <td>5.0</td>\n      <td>6.0</td>\n      <td>7.0</td>\n    </tr>\n    <tr>\n      <th>2</th>\n      <td>0.0</td>\n      <td>9.0</td>\n      <td>10.0</td>\n      <td>11.0</td>\n    </tr>\n    <tr>\n      <th>3</th>\n      <td>0.0</td>\n      <td>13.0</td>\n      <td>14.0</td>\n      <td>15.0</td>\n    </tr>\n  </tbody>\n</table>\n</div>"
     },
     "execution_count": 6,
     "metadata": {},
     "output_type": "execute_result"
    }
   ],
   "source": [
    "df.fillna(0)"
   ],
   "metadata": {
    "collapsed": false,
    "pycharm": {
     "name": "#%%\n"
    }
   }
  },
  {
   "cell_type": "code",
   "execution_count": 10,
   "outputs": [
    {
     "data": {
      "text/plain": "      2     3\n0   2.0   3.0\n1   6.0   7.0\n2  10.0  11.0\n3  14.0  15.0",
      "text/html": "<div>\n<style scoped>\n    .dataframe tbody tr th:only-of-type {\n        vertical-align: middle;\n    }\n\n    .dataframe tbody tr th {\n        vertical-align: top;\n    }\n\n    .dataframe thead th {\n        text-align: right;\n    }\n</style>\n<table border=\"1\" class=\"dataframe\">\n  <thead>\n    <tr style=\"text-align: right;\">\n      <th></th>\n      <th>2</th>\n      <th>3</th>\n    </tr>\n  </thead>\n  <tbody>\n    <tr>\n      <th>0</th>\n      <td>2.0</td>\n      <td>3.0</td>\n    </tr>\n    <tr>\n      <th>1</th>\n      <td>6.0</td>\n      <td>7.0</td>\n    </tr>\n    <tr>\n      <th>2</th>\n      <td>10.0</td>\n      <td>11.0</td>\n    </tr>\n    <tr>\n      <th>3</th>\n      <td>14.0</td>\n      <td>15.0</td>\n    </tr>\n  </tbody>\n</table>\n</div>"
     },
     "execution_count": 10,
     "metadata": {},
     "output_type": "execute_result"
    }
   ],
   "source": [
    "df.drop(labels=[0, 1], axis=1)"
   ],
   "metadata": {
    "collapsed": false,
    "pycharm": {
     "name": "#%%\n"
    }
   }
  },
  {
   "cell_type": "code",
   "execution_count": 11,
   "outputs": [
    {
     "data": {
      "text/plain": "array([[0, 1, 2],\n       [1, 1, 2],\n       [0, 1, 3],\n       [2, 0, 3],\n       [3, 1, 3],\n       [3, 3, 0],\n       [3, 2, 0],\n       [2, 2, 1],\n       [2, 1, 2],\n       [1, 3, 1],\n       [1, 1, 2],\n       [1, 2, 2],\n       [2, 2, 2],\n       [2, 2, 1],\n       [1, 0, 0],\n       [1, 2, 2],\n       [1, 3, 2],\n       [1, 2, 2],\n       [3, 0, 3],\n       [0, 0, 2],\n       [1, 2, 2],\n       [3, 2, 2],\n       [2, 1, 2],\n       [0, 2, 1],\n       [1, 1, 2],\n       [1, 3, 1],\n       [0, 1, 1],\n       [2, 2, 3],\n       [3, 1, 1],\n       [1, 1, 3],\n       [2, 3, 1],\n       [1, 2, 2],\n       [1, 3, 1],\n       [1, 1, 0],\n       [2, 2, 1],\n       [1, 0, 1],\n       [2, 1, 1],\n       [3, 1, 2],\n       [1, 1, 2],\n       [0, 2, 1],\n       [0, 1, 1],\n       [0, 3, 1],\n       [0, 2, 1],\n       [3, 2, 2],\n       [3, 2, 1],\n       [2, 0, 2],\n       [2, 1, 2],\n       [1, 2, 2],\n       [2, 1, 2],\n       [1, 1, 0],\n       [1, 1, 2],\n       [0, 3, 2],\n       [2, 1, 2],\n       [1, 0, 0],\n       [3, 2, 1],\n       [1, 1, 1],\n       [2, 2, 2],\n       [1, 3, 2],\n       [1, 1, 1],\n       [1, 2, 3],\n       [2, 3, 1],\n       [1, 1, 2],\n       [2, 3, 1],\n       [1, 1, 1],\n       [0, 3, 2],\n       [2, 1, 3],\n       [1, 1, 2],\n       [2, 1, 0],\n       [1, 1, 1],\n       [2, 3, 2],\n       [3, 3, 3],\n       [0, 0, 3],\n       [2, 1, 2],\n       [1, 0, 1],\n       [0, 2, 1],\n       [1, 0, 2],\n       [1, 1, 1],\n       [2, 2, 0],\n       [1, 2, 3],\n       [1, 2, 2],\n       [1, 1, 3],\n       [3, 2, 3],\n       [2, 1, 2],\n       [2, 1, 2],\n       [1, 2, 2],\n       [1, 1, 2],\n       [1, 1, 0],\n       [1, 0, 2],\n       [2, 2, 1],\n       [2, 2, 2],\n       [0, 0, 1],\n       [3, 1, 0],\n       [3, 1, 1],\n       [1, 0, 1],\n       [2, 0, 2],\n       [0, 0, 0],\n       [2, 0, 1],\n       [1, 3, 1],\n       [0, 2, 1],\n       [1, 2, 1]])"
     },
     "execution_count": 11,
     "metadata": {},
     "output_type": "execute_result"
    }
   ],
   "source": [
    "a = np.random.binomial(3, 0.5, (100, 3))\n",
    "a"
   ],
   "metadata": {
    "collapsed": false,
    "pycharm": {
     "name": "#%%\n"
    }
   }
  },
  {
   "cell_type": "code",
   "execution_count": 13,
   "outputs": [],
   "source": [
    "df = pd.DataFrame(a)\n",
    "group_df = df.groupby([0])"
   ],
   "metadata": {
    "collapsed": false,
    "pycharm": {
     "name": "#%%\n"
    }
   }
  },
  {
   "cell_type": "code",
   "execution_count": 26,
   "outputs": [
    {
     "name": "stdout",
     "output_type": "stream",
     "text": [
      "0     0  1  2\n",
      "0   0  1  2\n",
      "2   0  1  3\n",
      "19  0  0  2\n",
      "23  0  2  1\n",
      "26  0  1  1\n",
      "39  0  2  1\n",
      "40  0  1  1\n",
      "41  0  3  1\n",
      "42  0  2  1\n",
      "51  0  3  2\n",
      "64  0  3  2\n",
      "71  0  0  3\n",
      "74  0  2  1\n",
      "90  0  0  1\n",
      "95  0  0  0\n",
      "98  0  2  1\n",
      "1     0  1  2\n",
      "1   1  1  2\n",
      "9   1  3  1\n",
      "10  1  1  2\n",
      "11  1  2  2\n",
      "14  1  0  0\n",
      "15  1  2  2\n",
      "16  1  3  2\n",
      "17  1  2  2\n",
      "20  1  2  2\n",
      "24  1  1  2\n",
      "25  1  3  1\n",
      "29  1  1  3\n",
      "31  1  2  2\n",
      "32  1  3  1\n",
      "33  1  1  0\n",
      "35  1  0  1\n",
      "38  1  1  2\n",
      "47  1  2  2\n",
      "49  1  1  0\n",
      "50  1  1  2\n",
      "53  1  0  0\n",
      "55  1  1  1\n",
      "57  1  3  2\n",
      "58  1  1  1\n",
      "59  1  2  3\n",
      "61  1  1  2\n",
      "63  1  1  1\n",
      "66  1  1  2\n",
      "68  1  1  1\n",
      "73  1  0  1\n",
      "75  1  0  2\n",
      "76  1  1  1\n",
      "78  1  2  3\n",
      "79  1  2  2\n",
      "80  1  1  3\n",
      "84  1  2  2\n",
      "85  1  1  2\n",
      "86  1  1  0\n",
      "87  1  0  2\n",
      "93  1  0  1\n",
      "97  1  3  1\n",
      "99  1  2  1\n",
      "2     0  1  2\n",
      "3   2  0  3\n",
      "7   2  2  1\n",
      "8   2  1  2\n",
      "12  2  2  2\n",
      "13  2  2  1\n",
      "22  2  1  2\n",
      "27  2  2  3\n",
      "30  2  3  1\n",
      "34  2  2  1\n",
      "36  2  1  1\n",
      "45  2  0  2\n",
      "46  2  1  2\n",
      "48  2  1  2\n",
      "52  2  1  2\n",
      "56  2  2  2\n",
      "60  2  3  1\n",
      "62  2  3  1\n",
      "65  2  1  3\n",
      "67  2  1  0\n",
      "69  2  3  2\n",
      "72  2  1  2\n",
      "77  2  2  0\n",
      "82  2  1  2\n",
      "83  2  1  2\n",
      "88  2  2  1\n",
      "89  2  2  2\n",
      "94  2  0  2\n",
      "96  2  0  1\n",
      "3     0  1  2\n",
      "4   3  1  3\n",
      "5   3  3  0\n",
      "6   3  2  0\n",
      "18  3  0  3\n",
      "21  3  2  2\n",
      "28  3  1  1\n",
      "37  3  1  2\n",
      "43  3  2  2\n",
      "44  3  2  1\n",
      "54  3  2  1\n",
      "70  3  3  3\n",
      "81  3  2  3\n",
      "91  3  1  0\n",
      "92  3  1  1\n"
     ]
    }
   ],
   "source": [
    "for group_id, value in group_df:\n",
    "    print(group_id, value)"
   ],
   "metadata": {
    "collapsed": false,
    "pycharm": {
     "name": "#%%\n"
    }
   }
  },
  {
   "cell_type": "code",
   "execution_count": 35,
   "outputs": [
    {
     "name": "stdout",
     "output_type": "stream",
     "text": [
      "<class 'pandas.core.frame.DataFrame'>\n",
      "Int64Index: 16 entries, 0 to 98\n",
      "Data columns (total 3 columns):\n",
      " #   Column  Non-Null Count  Dtype\n",
      "---  ------  --------------  -----\n",
      " 0   0       16 non-null     int64\n",
      " 1   1       16 non-null     int64\n",
      " 2   2       16 non-null     int64\n",
      "dtypes: int64(3)\n",
      "memory usage: 512.0 bytes\n",
      "None\n",
      "<class 'pandas.core.frame.DataFrame'>\n",
      "Int64Index: 42 entries, 1 to 99\n",
      "Data columns (total 3 columns):\n",
      " #   Column  Non-Null Count  Dtype\n",
      "---  ------  --------------  -----\n",
      " 0   0       42 non-null     int64\n",
      " 1   1       42 non-null     int64\n",
      " 2   2       42 non-null     int64\n",
      "dtypes: int64(3)\n",
      "memory usage: 1.3 KB\n",
      "None\n",
      "<class 'pandas.core.frame.DataFrame'>\n",
      "Int64Index: 28 entries, 3 to 96\n",
      "Data columns (total 3 columns):\n",
      " #   Column  Non-Null Count  Dtype\n",
      "---  ------  --------------  -----\n",
      " 0   0       28 non-null     int64\n",
      " 1   1       28 non-null     int64\n",
      " 2   2       28 non-null     int64\n",
      "dtypes: int64(3)\n",
      "memory usage: 896.0 bytes\n",
      "None\n",
      "<class 'pandas.core.frame.DataFrame'>\n",
      "Int64Index: 14 entries, 4 to 92\n",
      "Data columns (total 3 columns):\n",
      " #   Column  Non-Null Count  Dtype\n",
      "---  ------  --------------  -----\n",
      " 0   0       14 non-null     int64\n",
      " 1   1       14 non-null     int64\n",
      " 2   2       14 non-null     int64\n",
      "dtypes: int64(3)\n",
      "memory usage: 448.0 bytes\n",
      "None\n"
     ]
    },
    {
     "data": {
      "text/plain": "    1   2\n0        \n0 NaN NaN\n1 NaN NaN\n2 NaN NaN\n3 NaN NaN",
      "text/html": "<div>\n<style scoped>\n    .dataframe tbody tr th:only-of-type {\n        vertical-align: middle;\n    }\n\n    .dataframe tbody tr th {\n        vertical-align: top;\n    }\n\n    .dataframe thead th {\n        text-align: right;\n    }\n</style>\n<table border=\"1\" class=\"dataframe\">\n  <thead>\n    <tr style=\"text-align: right;\">\n      <th></th>\n      <th>1</th>\n      <th>2</th>\n    </tr>\n    <tr>\n      <th>0</th>\n      <th></th>\n      <th></th>\n    </tr>\n  </thead>\n  <tbody>\n    <tr>\n      <th>0</th>\n      <td>NaN</td>\n      <td>NaN</td>\n    </tr>\n    <tr>\n      <th>1</th>\n      <td>NaN</td>\n      <td>NaN</td>\n    </tr>\n    <tr>\n      <th>2</th>\n      <td>NaN</td>\n      <td>NaN</td>\n    </tr>\n    <tr>\n      <th>3</th>\n      <td>NaN</td>\n      <td>NaN</td>\n    </tr>\n  </tbody>\n</table>\n</div>"
     },
     "execution_count": 35,
     "metadata": {},
     "output_type": "execute_result"
    }
   ],
   "source": [
    "def apply_func(ele):\n",
    "    print(ele.info())\n",
    "group_df.agg(apply_func)"
   ],
   "metadata": {
    "collapsed": false,
    "pycharm": {
     "name": "#%%\n"
    }
   }
  },
  {
   "cell_type": "code",
   "execution_count": 22,
   "outputs": [
    {
     "data": {
      "text/plain": "array([1, 2, 3, 4, 5, 6])"
     },
     "execution_count": 22,
     "metadata": {},
     "output_type": "execute_result"
    }
   ],
   "source": [
    "np.setxor1d(np.array([1, 2, 3]), np.array([4, 5, 6]))"
   ],
   "metadata": {
    "collapsed": false,
    "pycharm": {
     "name": "#%%\n"
    }
   }
  },
  {
   "cell_type": "code",
   "execution_count": 23,
   "outputs": [
    {
     "name": "stdout",
     "output_type": "stream",
     "text": [
      "0 0    0\n",
      "1    1\n",
      "2    2\n",
      "Name: 0, dtype: int64\n",
      "1 0    1\n",
      "1    1\n",
      "2    2\n",
      "Name: 1, dtype: int64\n",
      "2 0    0\n",
      "1    1\n",
      "2    3\n",
      "Name: 2, dtype: int64\n",
      "3 0    2\n",
      "1    0\n",
      "2    3\n",
      "Name: 3, dtype: int64\n",
      "4 0    3\n",
      "1    1\n",
      "2    3\n",
      "Name: 4, dtype: int64\n",
      "5 0    3\n",
      "1    3\n",
      "2    0\n",
      "Name: 5, dtype: int64\n",
      "6 0    3\n",
      "1    2\n",
      "2    0\n",
      "Name: 6, dtype: int64\n",
      "7 0    2\n",
      "1    2\n",
      "2    1\n",
      "Name: 7, dtype: int64\n",
      "8 0    2\n",
      "1    1\n",
      "2    2\n",
      "Name: 8, dtype: int64\n",
      "9 0    1\n",
      "1    3\n",
      "2    1\n",
      "Name: 9, dtype: int64\n",
      "10 0    1\n",
      "1    1\n",
      "2    2\n",
      "Name: 10, dtype: int64\n",
      "11 0    1\n",
      "1    2\n",
      "2    2\n",
      "Name: 11, dtype: int64\n",
      "12 0    2\n",
      "1    2\n",
      "2    2\n",
      "Name: 12, dtype: int64\n",
      "13 0    2\n",
      "1    2\n",
      "2    1\n",
      "Name: 13, dtype: int64\n",
      "14 0    1\n",
      "1    0\n",
      "2    0\n",
      "Name: 14, dtype: int64\n",
      "15 0    1\n",
      "1    2\n",
      "2    2\n",
      "Name: 15, dtype: int64\n",
      "16 0    1\n",
      "1    3\n",
      "2    2\n",
      "Name: 16, dtype: int64\n",
      "17 0    1\n",
      "1    2\n",
      "2    2\n",
      "Name: 17, dtype: int64\n",
      "18 0    3\n",
      "1    0\n",
      "2    3\n",
      "Name: 18, dtype: int64\n",
      "19 0    0\n",
      "1    0\n",
      "2    2\n",
      "Name: 19, dtype: int64\n",
      "20 0    1\n",
      "1    2\n",
      "2    2\n",
      "Name: 20, dtype: int64\n",
      "21 0    3\n",
      "1    2\n",
      "2    2\n",
      "Name: 21, dtype: int64\n",
      "22 0    2\n",
      "1    1\n",
      "2    2\n",
      "Name: 22, dtype: int64\n",
      "23 0    0\n",
      "1    2\n",
      "2    1\n",
      "Name: 23, dtype: int64\n",
      "24 0    1\n",
      "1    1\n",
      "2    2\n",
      "Name: 24, dtype: int64\n",
      "25 0    1\n",
      "1    3\n",
      "2    1\n",
      "Name: 25, dtype: int64\n",
      "26 0    0\n",
      "1    1\n",
      "2    1\n",
      "Name: 26, dtype: int64\n",
      "27 0    2\n",
      "1    2\n",
      "2    3\n",
      "Name: 27, dtype: int64\n",
      "28 0    3\n",
      "1    1\n",
      "2    1\n",
      "Name: 28, dtype: int64\n",
      "29 0    1\n",
      "1    1\n",
      "2    3\n",
      "Name: 29, dtype: int64\n",
      "30 0    2\n",
      "1    3\n",
      "2    1\n",
      "Name: 30, dtype: int64\n",
      "31 0    1\n",
      "1    2\n",
      "2    2\n",
      "Name: 31, dtype: int64\n",
      "32 0    1\n",
      "1    3\n",
      "2    1\n",
      "Name: 32, dtype: int64\n",
      "33 0    1\n",
      "1    1\n",
      "2    0\n",
      "Name: 33, dtype: int64\n",
      "34 0    2\n",
      "1    2\n",
      "2    1\n",
      "Name: 34, dtype: int64\n",
      "35 0    1\n",
      "1    0\n",
      "2    1\n",
      "Name: 35, dtype: int64\n",
      "36 0    2\n",
      "1    1\n",
      "2    1\n",
      "Name: 36, dtype: int64\n",
      "37 0    3\n",
      "1    1\n",
      "2    2\n",
      "Name: 37, dtype: int64\n",
      "38 0    1\n",
      "1    1\n",
      "2    2\n",
      "Name: 38, dtype: int64\n",
      "39 0    0\n",
      "1    2\n",
      "2    1\n",
      "Name: 39, dtype: int64\n",
      "40 0    0\n",
      "1    1\n",
      "2    1\n",
      "Name: 40, dtype: int64\n",
      "41 0    0\n",
      "1    3\n",
      "2    1\n",
      "Name: 41, dtype: int64\n",
      "42 0    0\n",
      "1    2\n",
      "2    1\n",
      "Name: 42, dtype: int64\n",
      "43 0    3\n",
      "1    2\n",
      "2    2\n",
      "Name: 43, dtype: int64\n",
      "44 0    3\n",
      "1    2\n",
      "2    1\n",
      "Name: 44, dtype: int64\n",
      "45 0    2\n",
      "1    0\n",
      "2    2\n",
      "Name: 45, dtype: int64\n",
      "46 0    2\n",
      "1    1\n",
      "2    2\n",
      "Name: 46, dtype: int64\n",
      "47 0    1\n",
      "1    2\n",
      "2    2\n",
      "Name: 47, dtype: int64\n",
      "48 0    2\n",
      "1    1\n",
      "2    2\n",
      "Name: 48, dtype: int64\n",
      "49 0    1\n",
      "1    1\n",
      "2    0\n",
      "Name: 49, dtype: int64\n",
      "50 0    1\n",
      "1    1\n",
      "2    2\n",
      "Name: 50, dtype: int64\n",
      "51 0    0\n",
      "1    3\n",
      "2    2\n",
      "Name: 51, dtype: int64\n",
      "52 0    2\n",
      "1    1\n",
      "2    2\n",
      "Name: 52, dtype: int64\n",
      "53 0    1\n",
      "1    0\n",
      "2    0\n",
      "Name: 53, dtype: int64\n",
      "54 0    3\n",
      "1    2\n",
      "2    1\n",
      "Name: 54, dtype: int64\n",
      "55 0    1\n",
      "1    1\n",
      "2    1\n",
      "Name: 55, dtype: int64\n",
      "56 0    2\n",
      "1    2\n",
      "2    2\n",
      "Name: 56, dtype: int64\n",
      "57 0    1\n",
      "1    3\n",
      "2    2\n",
      "Name: 57, dtype: int64\n",
      "58 0    1\n",
      "1    1\n",
      "2    1\n",
      "Name: 58, dtype: int64\n",
      "59 0    1\n",
      "1    2\n",
      "2    3\n",
      "Name: 59, dtype: int64\n",
      "60 0    2\n",
      "1    3\n",
      "2    1\n",
      "Name: 60, dtype: int64\n",
      "61 0    1\n",
      "1    1\n",
      "2    2\n",
      "Name: 61, dtype: int64\n",
      "62 0    2\n",
      "1    3\n",
      "2    1\n",
      "Name: 62, dtype: int64\n",
      "63 0    1\n",
      "1    1\n",
      "2    1\n",
      "Name: 63, dtype: int64\n",
      "64 0    0\n",
      "1    3\n",
      "2    2\n",
      "Name: 64, dtype: int64\n",
      "65 0    2\n",
      "1    1\n",
      "2    3\n",
      "Name: 65, dtype: int64\n",
      "66 0    1\n",
      "1    1\n",
      "2    2\n",
      "Name: 66, dtype: int64\n",
      "67 0    2\n",
      "1    1\n",
      "2    0\n",
      "Name: 67, dtype: int64\n",
      "68 0    1\n",
      "1    1\n",
      "2    1\n",
      "Name: 68, dtype: int64\n",
      "69 0    2\n",
      "1    3\n",
      "2    2\n",
      "Name: 69, dtype: int64\n",
      "70 0    3\n",
      "1    3\n",
      "2    3\n",
      "Name: 70, dtype: int64\n",
      "71 0    0\n",
      "1    0\n",
      "2    3\n",
      "Name: 71, dtype: int64\n",
      "72 0    2\n",
      "1    1\n",
      "2    2\n",
      "Name: 72, dtype: int64\n",
      "73 0    1\n",
      "1    0\n",
      "2    1\n",
      "Name: 73, dtype: int64\n",
      "74 0    0\n",
      "1    2\n",
      "2    1\n",
      "Name: 74, dtype: int64\n",
      "75 0    1\n",
      "1    0\n",
      "2    2\n",
      "Name: 75, dtype: int64\n",
      "76 0    1\n",
      "1    1\n",
      "2    1\n",
      "Name: 76, dtype: int64\n",
      "77 0    2\n",
      "1    2\n",
      "2    0\n",
      "Name: 77, dtype: int64\n",
      "78 0    1\n",
      "1    2\n",
      "2    3\n",
      "Name: 78, dtype: int64\n",
      "79 0    1\n",
      "1    2\n",
      "2    2\n",
      "Name: 79, dtype: int64\n",
      "80 0    1\n",
      "1    1\n",
      "2    3\n",
      "Name: 80, dtype: int64\n",
      "81 0    3\n",
      "1    2\n",
      "2    3\n",
      "Name: 81, dtype: int64\n",
      "82 0    2\n",
      "1    1\n",
      "2    2\n",
      "Name: 82, dtype: int64\n",
      "83 0    2\n",
      "1    1\n",
      "2    2\n",
      "Name: 83, dtype: int64\n",
      "84 0    1\n",
      "1    2\n",
      "2    2\n",
      "Name: 84, dtype: int64\n",
      "85 0    1\n",
      "1    1\n",
      "2    2\n",
      "Name: 85, dtype: int64\n",
      "86 0    1\n",
      "1    1\n",
      "2    0\n",
      "Name: 86, dtype: int64\n",
      "87 0    1\n",
      "1    0\n",
      "2    2\n",
      "Name: 87, dtype: int64\n",
      "88 0    2\n",
      "1    2\n",
      "2    1\n",
      "Name: 88, dtype: int64\n",
      "89 0    2\n",
      "1    2\n",
      "2    2\n",
      "Name: 89, dtype: int64\n",
      "90 0    0\n",
      "1    0\n",
      "2    1\n",
      "Name: 90, dtype: int64\n",
      "91 0    3\n",
      "1    1\n",
      "2    0\n",
      "Name: 91, dtype: int64\n",
      "92 0    3\n",
      "1    1\n",
      "2    1\n",
      "Name: 92, dtype: int64\n",
      "93 0    1\n",
      "1    0\n",
      "2    1\n",
      "Name: 93, dtype: int64\n",
      "94 0    2\n",
      "1    0\n",
      "2    2\n",
      "Name: 94, dtype: int64\n",
      "95 0    0\n",
      "1    0\n",
      "2    0\n",
      "Name: 95, dtype: int64\n",
      "96 0    2\n",
      "1    0\n",
      "2    1\n",
      "Name: 96, dtype: int64\n",
      "97 0    1\n",
      "1    3\n",
      "2    1\n",
      "Name: 97, dtype: int64\n",
      "98 0    0\n",
      "1    2\n",
      "2    1\n",
      "Name: 98, dtype: int64\n",
      "99 0    1\n",
      "1    2\n",
      "2    1\n",
      "Name: 99, dtype: int64\n"
     ]
    }
   ],
   "source": [
    "for index, row in df.iterrows():\n",
    "    print(index, row)"
   ],
   "metadata": {
    "collapsed": false,
    "pycharm": {
     "name": "#%%\n"
    }
   }
  },
  {
   "cell_type": "code",
   "execution_count": 36,
   "outputs": [
    {
     "data": {
      "text/plain": "    0  1  2\n0   0  1  2\n1   1  1  2\n2   0  1  3\n3   2  0  3\n4   3  1  3\n.. .. .. ..\n95  0  0  0\n96  2  0  1\n97  1  3  1\n98  0  2  1\n99  1  2  1\n\n[100 rows x 3 columns]",
      "text/html": "<div>\n<style scoped>\n    .dataframe tbody tr th:only-of-type {\n        vertical-align: middle;\n    }\n\n    .dataframe tbody tr th {\n        vertical-align: top;\n    }\n\n    .dataframe thead th {\n        text-align: right;\n    }\n</style>\n<table border=\"1\" class=\"dataframe\">\n  <thead>\n    <tr style=\"text-align: right;\">\n      <th></th>\n      <th>0</th>\n      <th>1</th>\n      <th>2</th>\n    </tr>\n  </thead>\n  <tbody>\n    <tr>\n      <th>0</th>\n      <td>0</td>\n      <td>1</td>\n      <td>2</td>\n    </tr>\n    <tr>\n      <th>1</th>\n      <td>1</td>\n      <td>1</td>\n      <td>2</td>\n    </tr>\n    <tr>\n      <th>2</th>\n      <td>0</td>\n      <td>1</td>\n      <td>3</td>\n    </tr>\n    <tr>\n      <th>3</th>\n      <td>2</td>\n      <td>0</td>\n      <td>3</td>\n    </tr>\n    <tr>\n      <th>4</th>\n      <td>3</td>\n      <td>1</td>\n      <td>3</td>\n    </tr>\n    <tr>\n      <th>...</th>\n      <td>...</td>\n      <td>...</td>\n      <td>...</td>\n    </tr>\n    <tr>\n      <th>95</th>\n      <td>0</td>\n      <td>0</td>\n      <td>0</td>\n    </tr>\n    <tr>\n      <th>96</th>\n      <td>2</td>\n      <td>0</td>\n      <td>1</td>\n    </tr>\n    <tr>\n      <th>97</th>\n      <td>1</td>\n      <td>3</td>\n      <td>1</td>\n    </tr>\n    <tr>\n      <th>98</th>\n      <td>0</td>\n      <td>2</td>\n      <td>1</td>\n    </tr>\n    <tr>\n      <th>99</th>\n      <td>1</td>\n      <td>2</td>\n      <td>1</td>\n    </tr>\n  </tbody>\n</table>\n<p>100 rows × 3 columns</p>\n</div>"
     },
     "execution_count": 36,
     "metadata": {},
     "output_type": "execute_result"
    }
   ],
   "source": [
    "df"
   ],
   "metadata": {
    "collapsed": false,
    "pycharm": {
     "name": "#%%\n"
    }
   }
  },
  {
   "cell_type": "code",
   "execution_count": 39,
   "outputs": [
    {
     "name": "stdout",
     "output_type": "stream",
     "text": [
      "0     0\n",
      "1     1\n",
      "2     0\n",
      "3     2\n",
      "4     3\n",
      "     ..\n",
      "95    0\n",
      "96    2\n",
      "97    1\n",
      "98    0\n",
      "99    1\n",
      "Name: 0, Length: 100, dtype: int64\n",
      "0     1\n",
      "1     1\n",
      "2     1\n",
      "3     0\n",
      "4     1\n",
      "     ..\n",
      "95    0\n",
      "96    0\n",
      "97    3\n",
      "98    2\n",
      "99    2\n",
      "Name: 1, Length: 100, dtype: int64\n",
      "0     2\n",
      "1     2\n",
      "2     3\n",
      "3     3\n",
      "4     3\n",
      "     ..\n",
      "95    0\n",
      "96    1\n",
      "97    1\n",
      "98    1\n",
      "99    1\n",
      "Name: 2, Length: 100, dtype: int64\n"
     ]
    },
    {
     "data": {
      "text/plain": "0    None\n1    None\n2    None\ndtype: object"
     },
     "execution_count": 39,
     "metadata": {},
     "output_type": "execute_result"
    }
   ],
   "source": [
    "def func2(ele):\n",
    "    print(ele)\n",
    "df.apply(func2)"
   ],
   "metadata": {
    "collapsed": false,
    "pycharm": {
     "name": "#%%\n"
    }
   }
  },
  {
   "cell_type": "code",
   "execution_count": 42,
   "outputs": [],
   "source": [
    "df.columns = ['a', 'b', 'c']"
   ],
   "metadata": {
    "collapsed": false,
    "pycharm": {
     "name": "#%%\n"
    }
   }
  },
  {
   "cell_type": "code",
   "execution_count": 45,
   "outputs": [
    {
     "data": {
      "text/plain": "0    0\n1    1\n2    0\n3    2\n4    3\nName: a, dtype: int64"
     },
     "execution_count": 45,
     "metadata": {},
     "output_type": "execute_result"
    }
   ],
   "source": [
    "df.a.head()"
   ],
   "metadata": {
    "collapsed": false,
    "pycharm": {
     "name": "#%%\n"
    }
   }
  },
  {
   "cell_type": "code",
   "execution_count": 48,
   "outputs": [],
   "source": [
    "df.columns = range(3)"
   ],
   "metadata": {
    "collapsed": false,
    "pycharm": {
     "name": "#%%\n"
    }
   }
  },
  {
   "cell_type": "code",
   "execution_count": 51,
   "outputs": [
    {
     "data": {
      "text/plain": "0"
     },
     "execution_count": 51,
     "metadata": {},
     "output_type": "execute_result"
    }
   ],
   "source": [
    "df[0].name"
   ],
   "metadata": {
    "collapsed": false,
    "pycharm": {
     "name": "#%%\n"
    }
   }
  },
  {
   "cell_type": "code",
   "execution_count": 52,
   "outputs": [],
   "source": [
    "series = pd.Series([1, 2, 3])\n",
    "series.name"
   ],
   "metadata": {
    "collapsed": false,
    "pycharm": {
     "name": "#%%\n"
    }
   }
  },
  {
   "cell_type": "code",
   "execution_count": 53,
   "outputs": [
    {
     "data": {
      "text/plain": "    0  1  2\n0   0  1  2\n1   1  1  2\n2   0  1  3\n3   2  0  3\n4   3  1  3\n.. .. .. ..\n95  0  0  0\n96  2  0  1\n97  1  3  1\n98  0  2  1\n99  1  2  1\n\n[100 rows x 3 columns]",
      "text/html": "<div>\n<style scoped>\n    .dataframe tbody tr th:only-of-type {\n        vertical-align: middle;\n    }\n\n    .dataframe tbody tr th {\n        vertical-align: top;\n    }\n\n    .dataframe thead th {\n        text-align: right;\n    }\n</style>\n<table border=\"1\" class=\"dataframe\">\n  <thead>\n    <tr style=\"text-align: right;\">\n      <th></th>\n      <th>0</th>\n      <th>1</th>\n      <th>2</th>\n    </tr>\n  </thead>\n  <tbody>\n    <tr>\n      <th>0</th>\n      <td>0</td>\n      <td>1</td>\n      <td>2</td>\n    </tr>\n    <tr>\n      <th>1</th>\n      <td>1</td>\n      <td>1</td>\n      <td>2</td>\n    </tr>\n    <tr>\n      <th>2</th>\n      <td>0</td>\n      <td>1</td>\n      <td>3</td>\n    </tr>\n    <tr>\n      <th>3</th>\n      <td>2</td>\n      <td>0</td>\n      <td>3</td>\n    </tr>\n    <tr>\n      <th>4</th>\n      <td>3</td>\n      <td>1</td>\n      <td>3</td>\n    </tr>\n    <tr>\n      <th>...</th>\n      <td>...</td>\n      <td>...</td>\n      <td>...</td>\n    </tr>\n    <tr>\n      <th>95</th>\n      <td>0</td>\n      <td>0</td>\n      <td>0</td>\n    </tr>\n    <tr>\n      <th>96</th>\n      <td>2</td>\n      <td>0</td>\n      <td>1</td>\n    </tr>\n    <tr>\n      <th>97</th>\n      <td>1</td>\n      <td>3</td>\n      <td>1</td>\n    </tr>\n    <tr>\n      <th>98</th>\n      <td>0</td>\n      <td>2</td>\n      <td>1</td>\n    </tr>\n    <tr>\n      <th>99</th>\n      <td>1</td>\n      <td>2</td>\n      <td>1</td>\n    </tr>\n  </tbody>\n</table>\n<p>100 rows × 3 columns</p>\n</div>"
     },
     "execution_count": 53,
     "metadata": {},
     "output_type": "execute_result"
    }
   ],
   "source": [
    "df"
   ],
   "metadata": {
    "collapsed": false,
    "pycharm": {
     "name": "#%%\n"
    }
   }
  },
  {
   "cell_type": "code",
   "execution_count": 56,
   "outputs": [],
   "source": [
    "del df[0]"
   ],
   "metadata": {
    "collapsed": false,
    "pycharm": {
     "name": "#%%\n"
    }
   }
  },
  {
   "cell_type": "code",
   "execution_count": 62,
   "outputs": [],
   "source": [
    "temp_S = df[1].copy()"
   ],
   "metadata": {
    "collapsed": false,
    "pycharm": {
     "name": "#%%\n"
    }
   }
  },
  {
   "cell_type": "code",
   "execution_count": 63,
   "outputs": [
    {
     "data": {
      "text/plain": "0     2\n1     1\n2     1\n3     0\n4     1\n     ..\n95    0\n96    0\n97    3\n98    2\n99    2\nName: 1, Length: 100, dtype: int64"
     },
     "execution_count": 63,
     "metadata": {},
     "output_type": "execute_result"
    }
   ],
   "source": [
    "temp_S"
   ],
   "metadata": {
    "collapsed": false,
    "pycharm": {
     "name": "#%%\n"
    }
   }
  },
  {
   "cell_type": "code",
   "execution_count": 64,
   "outputs": [
    {
     "data": {
      "text/plain": "0     1\n1     1\n2     1\n3     0\n4     1\n     ..\n95    0\n96    0\n97    3\n98    2\n99    2\nName: 1, Length: 100, dtype: int64"
     },
     "execution_count": 64,
     "metadata": {},
     "output_type": "execute_result"
    }
   ],
   "source": [
    "temp_S[0] = 1\n",
    "temp_S"
   ],
   "metadata": {
    "collapsed": false,
    "pycharm": {
     "name": "#%%\n"
    }
   }
  },
  {
   "cell_type": "code",
   "execution_count": 65,
   "outputs": [
    {
     "data": {
      "text/plain": "    1  2\n0   2  2\n1   1  2\n2   1  3\n3   0  3\n4   1  3\n.. .. ..\n95  0  0\n96  0  1\n97  3  1\n98  2  1\n99  2  1\n\n[100 rows x 2 columns]",
      "text/html": "<div>\n<style scoped>\n    .dataframe tbody tr th:only-of-type {\n        vertical-align: middle;\n    }\n\n    .dataframe tbody tr th {\n        vertical-align: top;\n    }\n\n    .dataframe thead th {\n        text-align: right;\n    }\n</style>\n<table border=\"1\" class=\"dataframe\">\n  <thead>\n    <tr style=\"text-align: right;\">\n      <th></th>\n      <th>1</th>\n      <th>2</th>\n    </tr>\n  </thead>\n  <tbody>\n    <tr>\n      <th>0</th>\n      <td>2</td>\n      <td>2</td>\n    </tr>\n    <tr>\n      <th>1</th>\n      <td>1</td>\n      <td>2</td>\n    </tr>\n    <tr>\n      <th>2</th>\n      <td>1</td>\n      <td>3</td>\n    </tr>\n    <tr>\n      <th>3</th>\n      <td>0</td>\n      <td>3</td>\n    </tr>\n    <tr>\n      <th>4</th>\n      <td>1</td>\n      <td>3</td>\n    </tr>\n    <tr>\n      <th>...</th>\n      <td>...</td>\n      <td>...</td>\n    </tr>\n    <tr>\n      <th>95</th>\n      <td>0</td>\n      <td>0</td>\n    </tr>\n    <tr>\n      <th>96</th>\n      <td>0</td>\n      <td>1</td>\n    </tr>\n    <tr>\n      <th>97</th>\n      <td>3</td>\n      <td>1</td>\n    </tr>\n    <tr>\n      <th>98</th>\n      <td>2</td>\n      <td>1</td>\n    </tr>\n    <tr>\n      <th>99</th>\n      <td>2</td>\n      <td>1</td>\n    </tr>\n  </tbody>\n</table>\n<p>100 rows × 2 columns</p>\n</div>"
     },
     "execution_count": 65,
     "metadata": {},
     "output_type": "execute_result"
    }
   ],
   "source": [
    "df"
   ],
   "metadata": {
    "collapsed": false,
    "pycharm": {
     "name": "#%%\n"
    }
   }
  },
  {
   "cell_type": "code",
   "execution_count": 69,
   "outputs": [],
   "source": [
    "df1 = pd.DataFrame(np.arange(1, 10, 1).reshape((3, 3)), index=[1, 2, 3])"
   ],
   "metadata": {
    "collapsed": false,
    "pycharm": {
     "name": "#%%\n"
    }
   }
  },
  {
   "cell_type": "code",
   "execution_count": 70,
   "outputs": [
    {
     "data": {
      "text/plain": "   0  1  2\n1  1  2  3\n2  4  5  6\n3  7  8  9",
      "text/html": "<div>\n<style scoped>\n    .dataframe tbody tr th:only-of-type {\n        vertical-align: middle;\n    }\n\n    .dataframe tbody tr th {\n        vertical-align: top;\n    }\n\n    .dataframe thead th {\n        text-align: right;\n    }\n</style>\n<table border=\"1\" class=\"dataframe\">\n  <thead>\n    <tr style=\"text-align: right;\">\n      <th></th>\n      <th>0</th>\n      <th>1</th>\n      <th>2</th>\n    </tr>\n  </thead>\n  <tbody>\n    <tr>\n      <th>1</th>\n      <td>1</td>\n      <td>2</td>\n      <td>3</td>\n    </tr>\n    <tr>\n      <th>2</th>\n      <td>4</td>\n      <td>5</td>\n      <td>6</td>\n    </tr>\n    <tr>\n      <th>3</th>\n      <td>7</td>\n      <td>8</td>\n      <td>9</td>\n    </tr>\n  </tbody>\n</table>\n</div>"
     },
     "execution_count": 70,
     "metadata": {},
     "output_type": "execute_result"
    }
   ],
   "source": [
    "df1"
   ],
   "metadata": {
    "collapsed": false,
    "pycharm": {
     "name": "#%%\n"
    }
   }
  },
  {
   "cell_type": "code",
   "execution_count": 71,
   "outputs": [],
   "source": [
    "df2 = pd.DataFrame(df1.iloc[:, :2])"
   ],
   "metadata": {
    "collapsed": false,
    "pycharm": {
     "name": "#%%\n"
    }
   }
  },
  {
   "cell_type": "code",
   "execution_count": 72,
   "outputs": [
    {
     "data": {
      "text/plain": "   0  1\n1  1  2\n2  4  5\n3  7  8",
      "text/html": "<div>\n<style scoped>\n    .dataframe tbody tr th:only-of-type {\n        vertical-align: middle;\n    }\n\n    .dataframe tbody tr th {\n        vertical-align: top;\n    }\n\n    .dataframe thead th {\n        text-align: right;\n    }\n</style>\n<table border=\"1\" class=\"dataframe\">\n  <thead>\n    <tr style=\"text-align: right;\">\n      <th></th>\n      <th>0</th>\n      <th>1</th>\n    </tr>\n  </thead>\n  <tbody>\n    <tr>\n      <th>1</th>\n      <td>1</td>\n      <td>2</td>\n    </tr>\n    <tr>\n      <th>2</th>\n      <td>4</td>\n      <td>5</td>\n    </tr>\n    <tr>\n      <th>3</th>\n      <td>7</td>\n      <td>8</td>\n    </tr>\n  </tbody>\n</table>\n</div>"
     },
     "execution_count": 72,
     "metadata": {},
     "output_type": "execute_result"
    }
   ],
   "source": [
    "df2"
   ],
   "metadata": {
    "collapsed": false,
    "pycharm": {
     "name": "#%%\n"
    }
   }
  },
  {
   "cell_type": "code",
   "execution_count": null,
   "outputs": [],
   "source": [],
   "metadata": {
    "collapsed": false,
    "pycharm": {
     "name": "#%%\n"
    }
   }
  }
 ],
 "metadata": {
  "kernelspec": {
   "display_name": "Python 3",
   "language": "python",
   "name": "python3"
  },
  "language_info": {
   "codemirror_mode": {
    "name": "ipython",
    "version": 2
   },
   "file_extension": ".py",
   "mimetype": "text/x-python",
   "name": "python",
   "nbconvert_exporter": "python",
   "pygments_lexer": "ipython2",
   "version": "2.7.6"
  }
 },
 "nbformat": 4,
 "nbformat_minor": 0
}