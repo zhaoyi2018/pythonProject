{
 "cells": [
  {
   "cell_type": "code",
   "execution_count": 1,
   "outputs": [],
   "source": [
    "import numpy as np\n",
    "# import datetime\n",
    "# import numpy as np\n",
    "# import pandas as pd\n",
    "import matplotlib.pyplot as plt\n",
    "# import seaborn as sns\n",
    "# import statsmodels as sm\n",
    "# import requests\n",
    "# import re\n",
    "import json"
   ],
   "metadata": {
    "collapsed": false
   }
  },
  {
   "cell_type": "code",
   "execution_count": 3,
   "outputs": [],
   "source": [
    "def load_json(file_name):\n",
    "    with open(file_name, \"r\") as f:\n",
    "        data = json.load(f)\n",
    "    return data"
   ],
   "metadata": {
    "collapsed": false
   }
  },
  {
   "cell_type": "code",
   "execution_count": 4,
   "outputs": [],
   "source": [
    "old = load_json(\"./old.json\")\n",
    "new = load_json(\"./new.json\")"
   ],
   "metadata": {
    "collapsed": false
   }
  },
  {
   "cell_type": "code",
   "execution_count": 15,
   "outputs": [],
   "source": [
    "old = np.asarray(list(old.values()))\n",
    "new = np.asarray(list(new.values()))"
   ],
   "metadata": {
    "collapsed": false
   }
  },
  {
   "cell_type": "code",
   "execution_count": 18,
   "outputs": [
    {
     "data": {
      "text/plain": "array([ True,  True,  True,  True, False,  True,  True,  True, False,\n        True, False, False, False, False, False, False, False, False,\n       False, False,  True,  True, False, False,  True,  True, False,\n        True,  True,  True, False, False, False, False, False, False,\n       False, False, False, False, False, False, False, False, False,\n       False, False, False, False, False, False, False, False, False,\n       False, False, False, False, False, False, False, False, False,\n       False, False, False, False, False, False, False, False, False,\n       False, False, False, False, False, False, False, False, False,\n       False, False, False, False, False, False, False, False, False,\n       False, False, False, False, False, False, False, False, False,\n       False])"
     },
     "execution_count": 18,
     "metadata": {},
     "output_type": "execute_result"
    }
   ],
   "source": [
    "old[: 100] == new[:100]"
   ],
   "metadata": {
    "collapsed": false
   }
  },
  {
   "cell_type": "code",
   "execution_count": 19,
   "outputs": [
    {
     "data": {
      "text/plain": "array([80, 75,  3,  4, 20,  0,  0,  0,  8])"
     },
     "execution_count": 19,
     "metadata": {},
     "output_type": "execute_result"
    }
   ],
   "source": [
    "old[:9]"
   ],
   "metadata": {
    "collapsed": false
   }
  },
  {
   "cell_type": "code",
   "execution_count": 20,
   "outputs": [
    {
     "data": {
      "text/plain": "array([80, 75,  3,  4, 10,  0,  0,  0,  0])"
     },
     "execution_count": 20,
     "metadata": {},
     "output_type": "execute_result"
    }
   ],
   "source": [
    "new[:9]"
   ],
   "metadata": {
    "collapsed": false
   }
  },
  {
   "cell_type": "code",
   "execution_count": 1,
   "outputs": [],
   "source": [
    "import matplotlib.pyplot as plt"
   ],
   "metadata": {
    "collapsed": false
   }
  },
  {
   "cell_type": "code",
   "execution_count": 2,
   "outputs": [],
   "source": [
    "import numpy as np"
   ],
   "metadata": {
    "collapsed": false
   }
  },
  {
   "cell_type": "code",
   "execution_count": 3,
   "outputs": [
    {
     "data": {
      "text/plain": "<Figure size 10000x10000 with 0 Axes>"
     },
     "execution_count": 3,
     "metadata": {},
     "output_type": "execute_result"
    },
    {
     "data": {
      "text/plain": "<Figure size 10000x10000 with 0 Axes>"
     },
     "metadata": {},
     "output_type": "display_data"
    }
   ],
   "source": [
    "plt.figure(figsize=(100, 100), dpi=100)"
   ],
   "metadata": {
    "collapsed": false
   }
  },
  {
   "cell_type": "code",
   "execution_count": 4,
   "outputs": [],
   "source": [
    "plt.rcParams['font.sans-serif'] = ['SimHei']"
   ],
   "metadata": {
    "collapsed": false
   }
  },
  {
   "cell_type": "code",
   "execution_count": 5,
   "outputs": [],
   "source": [
    "plt.rcParams['axes.unicode_minus'] = False"
   ],
   "metadata": {
    "collapsed": false
   }
  },
  {
   "cell_type": "code",
   "execution_count": 67,
   "outputs": [],
   "source": [
    "import chardet"
   ],
   "metadata": {
    "collapsed": false
   }
  },
  {
   "cell_type": "code",
   "execution_count": 69,
   "outputs": [
    {
     "data": {
      "text/plain": "{'encoding': 'utf-8', 'confidence': 0.99, 'language': ''}"
     },
     "execution_count": 69,
     "metadata": {},
     "output_type": "execute_result"
    }
   ],
   "source": [
    "chardet.detect(\"¼ì²âÎÄ±¾±àÂë¸ñÊ½\")"
   ],
   "metadata": {
    "collapsed": false
   }
  },
  {
   "cell_type": "code",
   "execution_count": 96,
   "outputs": [],
   "source": [
    "def encode_text(text, encoding=\"utf-8\"):\n",
    "    data = text.encode(encoding)\n",
    "    print(\"原始结构:\", data)\n",
    "    print(\"长度:\", len(data))\n",
    "    print(\"整数列表:\", [e for e in data])\n",
    "    bin_list = [\"{:08b}\".format(e) for e in data]\n",
    "    print(\"二进制字符串列表:\", bin_list)\n",
    "    bin_all = \"\".join(bin_list)\n",
    "    print(\"0出现次数:{}, 1出现次数:{}\".format(bin_all.count(\"0\"), bin_all.count(\"1\")))\n",
    "\n",
    "def transfrom_from_vnc(text, from_encoding=\"GB2312\"):\n",
    "    return text.encode(\"latin1\").decode(from_encoding)"
   ],
   "metadata": {
    "collapsed": false
   }
  },
  {
   "cell_type": "code",
   "execution_count": 77,
   "outputs": [
    {
     "name": "stdout",
     "output_type": "stream",
     "text": [
      "长度: 4\n",
      "整数列表: [195, 150, 195, 134]\n",
      "二进制字符串列表: ['11000011', '10010110', '11000011', '10000110']\n",
      "0出现次数:17, 1出现次数:15\n",
      "长度: 4\n",
      "整数列表: [194, 187, 194, 187]\n",
      "二进制字符串列表: ['11000010', '10111011', '11000010', '10111011']\n",
      "0出现次数:14, 1出现次数:18\n",
      "长度: 4\n",
      "整数列表: [195, 148, 195, 154]\n",
      "二进制字符串列表: ['11000011', '10010100', '11000011', '10011010']\n",
      "0出现次数:17, 1出现次数:15\n"
     ]
    }
   ],
   "source": [
    "encode_text(\"ÖÆ\", \"utf-8\")\n",
    "encode_text(\"»»\", \"utf-8\")\n",
    "encode_text(\"ÔÚ\", \"utf-8\")"
   ],
   "metadata": {
    "collapsed": false
   }
  },
  {
   "cell_type": "code",
   "execution_count": 97,
   "outputs": [
    {
     "data": {
      "text/plain": "'制'"
     },
     "execution_count": 97,
     "metadata": {},
     "output_type": "execute_result"
    }
   ],
   "source": [
    "transfrom_from_vnc(\"ÖÆ\")"
   ],
   "metadata": {
    "collapsed": false
   }
  },
  {
   "cell_type": "code",
   "execution_count": 87,
   "outputs": [
    {
     "name": "stdout",
     "output_type": "stream",
     "text": [
      "原始结构: b'\\xd6\\xc6'\n",
      "长度: 2\n",
      "整数列表: [214, 198]\n",
      "二进制字符串列表: ['11010110', '11000110']\n",
      "0出现次数:7, 1出现次数:9\n",
      "原始结构: b'\\xbb\\xbb'\n",
      "长度: 2\n",
      "整数列表: [187, 187]\n",
      "二进制字符串列表: ['10111011', '10111011']\n",
      "0出现次数:4, 1出现次数:12\n",
      "原始结构: b'\\xd4\\xda'\n",
      "长度: 2\n",
      "整数列表: [212, 218]\n",
      "二进制字符串列表: ['11010100', '11011010']\n",
      "0出现次数:7, 1出现次数:9\n"
     ]
    }
   ],
   "source": [
    "# encode_text(\"制\", encoding=\"utf-8\")\n",
    "# encode_text(\"制\", encoding=\"utf-16\")\n",
    "encode_text(\"制\", encoding=\"GB2312\")\n",
    "encode_text(\"换\", encoding=\"GB2312\")\n",
    "encode_text(\"在\", encoding=\"GB2312\")"
   ],
   "metadata": {
    "collapsed": false
   }
  },
  {
   "cell_type": "code",
   "execution_count": 95,
   "outputs": [
    {
     "data": {
      "text/plain": "\"在Python中，将一个表示十六进制字符串的Unicode字符串（如'制'）转换为字节字符串（bytes）可以使用以下方法：\""
     },
     "execution_count": 95,
     "metadata": {},
     "output_type": "execute_result"
    }
   ],
   "source": [
    "bad = \"ÔÚPythonÖÐ£¬½«Ò»¸ö±íÊ¾Ê®Áù½øÖÆ×Ö·û´®µÄUnicode×Ö·û´®£¨Èç'\\xd6\\xc6'£©×ª»»Îª×Ö½Ú×Ö·û´®£¨bytes£©¿ÉÒÔÊ¹ÓÃÒÔÏÂ·½·¨£º\".encode(\"latin1\").decode(\"GB2312\")\n",
    "bad"
   ],
   "metadata": {
    "collapsed": false
   }
  },
  {
   "cell_type": "code",
   "execution_count": 43,
   "outputs": [
    {
     "data": {
      "text/plain": "([230, 141, 162], 3)"
     },
     "execution_count": 43,
     "metadata": {},
     "output_type": "execute_result"
    }
   ],
   "source": [
    "good = \"换\".encode(\"utf-8\")\n",
    "[x for x in good], len(good)"
   ],
   "metadata": {
    "collapsed": false
   }
  },
  {
   "cell_type": "code",
   "execution_count": 26,
   "outputs": [
    {
     "data": {
      "text/plain": "b'\\xff\\xfe\\xbb\\x00\\xbb\\x00'"
     },
     "execution_count": 26,
     "metadata": {},
     "output_type": "execute_result"
    }
   ],
   "source": [
    "\"»»\".encode(\"utf-16\")"
   ],
   "metadata": {
    "collapsed": false,
    "pycharm": {
     "name": "#%%表\n"
    }
   }
  },
  {
   "cell_type": "code",
   "execution_count": null,
   "outputs": [],
   "source": [],
   "metadata": {
    "collapsed": false
   }
  }
 ],
 "metadata": {
  "kernelspec": {
   "display_name": "Python 3",
   "language": "python",
   "name": "python3"
  },
  "language_info": {
   "codemirror_mode": {
    "name": "ipython",
    "version": 2
   },
   "file_extension": ".py",
   "mimetype": "text/x-python",
   "name": "python",
   "nbconvert_exporter": "python",
   "pygments_lexer": "ipython2",
   "version": "2.7.6"
  }
 },
 "nbformat": 4,
 "nbformat_minor": 0
}
